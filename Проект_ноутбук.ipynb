{
 "cells": [
  {
   "cell_type": "markdown",
   "id": "cc9fb374",
   "metadata": {},
   "source": [
    "# Отток клиентов"
   ]
  },
  {
   "cell_type": "markdown",
   "id": "14aa9b70",
   "metadata": {},
   "source": [
    "## Описание проекта\n",
    "Из «Бета-Банка» стали уходить клиенты. Каждый месяц. Немного, но заметно. Банковские маркетологи посчитали: сохранять текущих клиентов дешевле, чем привлекать новых.\n",
    "\n",
    "Нужно спрогнозировать, уйдёт клиент из банка в ближайшее время или нет. Вам предоставлены исторические данные о поведении клиентов и расторжении договоров с банком.\n"
   ]
  },
  {
   "cell_type": "markdown",
   "id": "77b2f97a",
   "metadata": {},
   "source": [
    "## 1. Изучение общей информации:\n",
    "\n"
   ]
  },
  {
   "cell_type": "code",
   "execution_count": 37,
   "id": "d12b36ad",
   "metadata": {},
   "outputs": [],
   "source": [
    "import pandas as pd\n",
    "from  sklearn.tree import DecisionTreeClassifier  \n",
    "from sklearn.ensemble import RandomForestClassifier \n",
    "from sklearn.linear_model import LogisticRegression \n",
    "from sklearn.model_selection import train_test_split \n",
    "from sklearn.preprocessing import StandardScaler \n",
    "from sklearn.metrics import f1_score, roc_curve, roc_auc_score \n",
    "from sklearn.utils import shuffle\n",
    "import matplotlib.pyplot as plt\n",
    "\n"
   ]
  },
  {
   "cell_type": "markdown",
   "id": "bcb8af79",
   "metadata": {},
   "source": [
    "Загрузим данные:"
   ]
  },
  {
   "cell_type": "code",
   "execution_count": 38,
   "id": "9f60cad0",
   "metadata": {
    "scrolled": true
   },
   "outputs": [
    {
     "data": {
      "text/html": [
       "<div>\n",
       "<style scoped>\n",
       "    .dataframe tbody tr th:only-of-type {\n",
       "        vertical-align: middle;\n",
       "    }\n",
       "\n",
       "    .dataframe tbody tr th {\n",
       "        vertical-align: top;\n",
       "    }\n",
       "\n",
       "    .dataframe thead th {\n",
       "        text-align: right;\n",
       "    }\n",
       "</style>\n",
       "<table border=\"1\" class=\"dataframe\">\n",
       "  <thead>\n",
       "    <tr style=\"text-align: right;\">\n",
       "      <th></th>\n",
       "      <th>Unnamed: 0.2</th>\n",
       "      <th>Unnamed: 0.1</th>\n",
       "      <th>Unnamed: 0</th>\n",
       "      <th>RowNumber</th>\n",
       "      <th>CustomerId</th>\n",
       "      <th>Surname</th>\n",
       "      <th>CreditScore</th>\n",
       "      <th>Geography</th>\n",
       "      <th>Gender</th>\n",
       "      <th>Age</th>\n",
       "      <th>Tenure</th>\n",
       "      <th>Balance</th>\n",
       "      <th>NumOfProducts</th>\n",
       "      <th>HasCrCard</th>\n",
       "      <th>IsActiveMember</th>\n",
       "      <th>EstimatedSalary</th>\n",
       "      <th>Exited</th>\n",
       "    </tr>\n",
       "  </thead>\n",
       "  <tbody>\n",
       "    <tr>\n",
       "      <th>6171</th>\n",
       "      <td>6171</td>\n",
       "      <td>6171</td>\n",
       "      <td>6171</td>\n",
       "      <td>6172</td>\n",
       "      <td>15673837</td>\n",
       "      <td>Ko</td>\n",
       "      <td>617</td>\n",
       "      <td>Spain</td>\n",
       "      <td>Male</td>\n",
       "      <td>61</td>\n",
       "      <td>3.0</td>\n",
       "      <td>113858.95</td>\n",
       "      <td>1</td>\n",
       "      <td>1</td>\n",
       "      <td>1</td>\n",
       "      <td>38129.22</td>\n",
       "      <td>0</td>\n",
       "    </tr>\n",
       "    <tr>\n",
       "      <th>8550</th>\n",
       "      <td>8550</td>\n",
       "      <td>8550</td>\n",
       "      <td>8550</td>\n",
       "      <td>8551</td>\n",
       "      <td>15709016</td>\n",
       "      <td>North</td>\n",
       "      <td>687</td>\n",
       "      <td>Germany</td>\n",
       "      <td>Female</td>\n",
       "      <td>47</td>\n",
       "      <td>1.0</td>\n",
       "      <td>91219.29</td>\n",
       "      <td>1</td>\n",
       "      <td>0</td>\n",
       "      <td>0</td>\n",
       "      <td>158845.49</td>\n",
       "      <td>1</td>\n",
       "    </tr>\n",
       "    <tr>\n",
       "      <th>6341</th>\n",
       "      <td>6341</td>\n",
       "      <td>6341</td>\n",
       "      <td>6341</td>\n",
       "      <td>6342</td>\n",
       "      <td>15658364</td>\n",
       "      <td>Laney</td>\n",
       "      <td>807</td>\n",
       "      <td>Germany</td>\n",
       "      <td>Female</td>\n",
       "      <td>40</td>\n",
       "      <td>1.0</td>\n",
       "      <td>134590.21</td>\n",
       "      <td>1</td>\n",
       "      <td>1</td>\n",
       "      <td>1</td>\n",
       "      <td>46253.65</td>\n",
       "      <td>0</td>\n",
       "    </tr>\n",
       "    <tr>\n",
       "      <th>1879</th>\n",
       "      <td>1879</td>\n",
       "      <td>1879</td>\n",
       "      <td>1879</td>\n",
       "      <td>1880</td>\n",
       "      <td>15768095</td>\n",
       "      <td>Yeh</td>\n",
       "      <td>579</td>\n",
       "      <td>France</td>\n",
       "      <td>Male</td>\n",
       "      <td>31</td>\n",
       "      <td>9.0</td>\n",
       "      <td>0.00</td>\n",
       "      <td>1</td>\n",
       "      <td>0</td>\n",
       "      <td>1</td>\n",
       "      <td>139048.00</td>\n",
       "      <td>0</td>\n",
       "    </tr>\n",
       "    <tr>\n",
       "      <th>9817</th>\n",
       "      <td>9817</td>\n",
       "      <td>9817</td>\n",
       "      <td>9817</td>\n",
       "      <td>9818</td>\n",
       "      <td>15812611</td>\n",
       "      <td>Lorimer</td>\n",
       "      <td>690</td>\n",
       "      <td>Spain</td>\n",
       "      <td>Female</td>\n",
       "      <td>30</td>\n",
       "      <td>5.0</td>\n",
       "      <td>0.00</td>\n",
       "      <td>2</td>\n",
       "      <td>0</td>\n",
       "      <td>1</td>\n",
       "      <td>78700.03</td>\n",
       "      <td>0</td>\n",
       "    </tr>\n",
       "    <tr>\n",
       "      <th>9643</th>\n",
       "      <td>9643</td>\n",
       "      <td>9643</td>\n",
       "      <td>9643</td>\n",
       "      <td>9644</td>\n",
       "      <td>15709354</td>\n",
       "      <td>Tudawali</td>\n",
       "      <td>521</td>\n",
       "      <td>France</td>\n",
       "      <td>Female</td>\n",
       "      <td>41</td>\n",
       "      <td>2.0</td>\n",
       "      <td>0.00</td>\n",
       "      <td>2</td>\n",
       "      <td>1</td>\n",
       "      <td>1</td>\n",
       "      <td>113089.43</td>\n",
       "      <td>0</td>\n",
       "    </tr>\n",
       "    <tr>\n",
       "      <th>3309</th>\n",
       "      <td>3309</td>\n",
       "      <td>3309</td>\n",
       "      <td>3309</td>\n",
       "      <td>3310</td>\n",
       "      <td>15753343</td>\n",
       "      <td>Barry</td>\n",
       "      <td>523</td>\n",
       "      <td>France</td>\n",
       "      <td>Female</td>\n",
       "      <td>28</td>\n",
       "      <td>2.0</td>\n",
       "      <td>121164.11</td>\n",
       "      <td>1</td>\n",
       "      <td>1</td>\n",
       "      <td>1</td>\n",
       "      <td>59938.81</td>\n",
       "      <td>0</td>\n",
       "    </tr>\n",
       "    <tr>\n",
       "      <th>318</th>\n",
       "      <td>318</td>\n",
       "      <td>318</td>\n",
       "      <td>318</td>\n",
       "      <td>319</td>\n",
       "      <td>15677512</td>\n",
       "      <td>McEncroe</td>\n",
       "      <td>628</td>\n",
       "      <td>Spain</td>\n",
       "      <td>Female</td>\n",
       "      <td>22</td>\n",
       "      <td>3.0</td>\n",
       "      <td>0.00</td>\n",
       "      <td>1</td>\n",
       "      <td>1</td>\n",
       "      <td>0</td>\n",
       "      <td>85426.28</td>\n",
       "      <td>0</td>\n",
       "    </tr>\n",
       "    <tr>\n",
       "      <th>4217</th>\n",
       "      <td>4217</td>\n",
       "      <td>4217</td>\n",
       "      <td>4217</td>\n",
       "      <td>4218</td>\n",
       "      <td>15583840</td>\n",
       "      <td>Okechukwu</td>\n",
       "      <td>587</td>\n",
       "      <td>Germany</td>\n",
       "      <td>Male</td>\n",
       "      <td>35</td>\n",
       "      <td>5.0</td>\n",
       "      <td>121863.61</td>\n",
       "      <td>1</td>\n",
       "      <td>1</td>\n",
       "      <td>1</td>\n",
       "      <td>23481.69</td>\n",
       "      <td>1</td>\n",
       "    </tr>\n",
       "    <tr>\n",
       "      <th>3633</th>\n",
       "      <td>3633</td>\n",
       "      <td>3633</td>\n",
       "      <td>3633</td>\n",
       "      <td>3634</td>\n",
       "      <td>15629846</td>\n",
       "      <td>Sheehan</td>\n",
       "      <td>827</td>\n",
       "      <td>Germany</td>\n",
       "      <td>Female</td>\n",
       "      <td>47</td>\n",
       "      <td>8.0</td>\n",
       "      <td>143001.50</td>\n",
       "      <td>2</td>\n",
       "      <td>1</td>\n",
       "      <td>0</td>\n",
       "      <td>108977.50</td>\n",
       "      <td>0</td>\n",
       "    </tr>\n",
       "  </tbody>\n",
       "</table>\n",
       "</div>"
      ],
      "text/plain": [
       "      Unnamed: 0.2  Unnamed: 0.1  Unnamed: 0  RowNumber  CustomerId  \\\n",
       "6171          6171          6171        6171       6172    15673837   \n",
       "8550          8550          8550        8550       8551    15709016   \n",
       "6341          6341          6341        6341       6342    15658364   \n",
       "1879          1879          1879        1879       1880    15768095   \n",
       "9817          9817          9817        9817       9818    15812611   \n",
       "9643          9643          9643        9643       9644    15709354   \n",
       "3309          3309          3309        3309       3310    15753343   \n",
       "318            318           318         318        319    15677512   \n",
       "4217          4217          4217        4217       4218    15583840   \n",
       "3633          3633          3633        3633       3634    15629846   \n",
       "\n",
       "        Surname  CreditScore Geography  Gender  Age  Tenure    Balance  \\\n",
       "6171         Ko          617     Spain    Male   61     3.0  113858.95   \n",
       "8550      North          687   Germany  Female   47     1.0   91219.29   \n",
       "6341      Laney          807   Germany  Female   40     1.0  134590.21   \n",
       "1879        Yeh          579    France    Male   31     9.0       0.00   \n",
       "9817    Lorimer          690     Spain  Female   30     5.0       0.00   \n",
       "9643   Tudawali          521    France  Female   41     2.0       0.00   \n",
       "3309      Barry          523    France  Female   28     2.0  121164.11   \n",
       "318    McEncroe          628     Spain  Female   22     3.0       0.00   \n",
       "4217  Okechukwu          587   Germany    Male   35     5.0  121863.61   \n",
       "3633    Sheehan          827   Germany  Female   47     8.0  143001.50   \n",
       "\n",
       "      NumOfProducts  HasCrCard  IsActiveMember  EstimatedSalary  Exited  \n",
       "6171              1          1               1         38129.22       0  \n",
       "8550              1          0               0        158845.49       1  \n",
       "6341              1          1               1         46253.65       0  \n",
       "1879              1          0               1        139048.00       0  \n",
       "9817              2          0               1         78700.03       0  \n",
       "9643              2          1               1        113089.43       0  \n",
       "3309              1          1               1         59938.81       0  \n",
       "318               1          1               0         85426.28       0  \n",
       "4217              1          1               1         23481.69       1  \n",
       "3633              2          1               0        108977.50       0  "
      ]
     },
     "metadata": {},
     "output_type": "display_data"
    }
   ],
   "source": [
    "try:\n",
    "    churn = pd.read_csv(\"C:\\\\Users\\\\User\\\\Documents\\\\Обучение_с_учителем\\\\churn.csv\")\n",
    "    churn.to_csv(\"churn.csv\")\n",
    "except:\n",
    "    churn = pd.read_csv(\"/datasets/Churn.csv\")\n",
    "\n",
    "display(churn.sample(10))"
   ]
  },
  {
   "cell_type": "markdown",
   "id": "d2dc63c5",
   "metadata": {},
   "source": [
    "Согласно документации мы имеем следующий набор данных:\n",
    "\n",
    "Признаки:\n",
    "* RowNumber — индекс строки в данных\n",
    "* CustomerId — уникальный идентификатор клиента\n",
    "* Surname — фамилия\n",
    "* CreditScore — кредитный рейтинг\n",
    "* Geography — страна проживания\n",
    "* Gender — пол\n",
    "* Age — возраст\n",
    "* Tenure — сколько лет человек является клиентом банка\n",
    "* Balance — баланс на счёте\n",
    "* NumOfProducts — количество продуктов банка, используемых клиентом\n",
    "* HasCrCard — наличие кредитной карты\n",
    "* IsActiveMember — активность клиента\n",
    "* EstimatedSalary — предполагаемая зарплата\n",
    "\n",
    "Целевой признак\n",
    "* Exited — факт ухода клиента"
   ]
  },
  {
   "cell_type": "code",
   "execution_count": 39,
   "id": "bf73f6ff",
   "metadata": {
    "scrolled": true
   },
   "outputs": [
    {
     "name": "stdout",
     "output_type": "stream",
     "text": [
      "<class 'pandas.core.frame.DataFrame'>\n",
      "RangeIndex: 10000 entries, 0 to 9999\n",
      "Data columns (total 17 columns):\n",
      " #   Column           Non-Null Count  Dtype  \n",
      "---  ------           --------------  -----  \n",
      " 0   Unnamed: 0.2     10000 non-null  int64  \n",
      " 1   Unnamed: 0.1     10000 non-null  int64  \n",
      " 2   Unnamed: 0       10000 non-null  int64  \n",
      " 3   RowNumber        10000 non-null  int64  \n",
      " 4   CustomerId       10000 non-null  int64  \n",
      " 5   Surname          10000 non-null  object \n",
      " 6   CreditScore      10000 non-null  int64  \n",
      " 7   Geography        10000 non-null  object \n",
      " 8   Gender           10000 non-null  object \n",
      " 9   Age              10000 non-null  int64  \n",
      " 10  Tenure           9091 non-null   float64\n",
      " 11  Balance          10000 non-null  float64\n",
      " 12  NumOfProducts    10000 non-null  int64  \n",
      " 13  HasCrCard        10000 non-null  int64  \n",
      " 14  IsActiveMember   10000 non-null  int64  \n",
      " 15  EstimatedSalary  10000 non-null  float64\n",
      " 16  Exited           10000 non-null  int64  \n",
      "dtypes: float64(3), int64(11), object(3)\n",
      "memory usage: 1.3+ MB\n"
     ]
    }
   ],
   "source": [
    "churn.info()"
   ]
  },
  {
   "cell_type": "code",
   "execution_count": 40,
   "id": "56b283db",
   "metadata": {
    "scrolled": true
   },
   "outputs": [
    {
     "data": {
      "text/plain": [
       "0"
      ]
     },
     "execution_count": 40,
     "metadata": {},
     "output_type": "execute_result"
    }
   ],
   "source": [
    "churn.duplicated().sum()"
   ]
  },
  {
   "cell_type": "markdown",
   "id": "6ae2265f",
   "metadata": {},
   "source": [
    "### Вывод: \n",
    "\n",
    "Итак, в нашем датасете всего 14 признаков и 10000 объектов. Категориалные признаки преобразуем техникой OHE для работы с разными моделями обучения. 6 количественных признака необходимо привести к одному масштабу.\n",
    "\n",
    "В столбце `Tenure` наблюдается 909 пропусков, которые мы заполним нулями. Типы данных соответствуют своим значениям. Дубликаты отсутствуют."
   ]
  },
  {
   "cell_type": "markdown",
   "id": "7617fc1f",
   "metadata": {},
   "source": [
    "## 2. Предобработка данных и подготовка признаков."
   ]
  },
  {
   "cell_type": "markdown",
   "id": "e68c6ddb",
   "metadata": {},
   "source": [
    "Заполним пропуски в столбце `Tenure` модой:"
   ]
  },
  {
   "cell_type": "code",
   "execution_count": 41,
   "id": "46abc8da",
   "metadata": {
    "scrolled": true
   },
   "outputs": [
    {
     "data": {
      "text/plain": [
       "1.0     952\n",
       "2.0     950\n",
       "8.0     933\n",
       "3.0     928\n",
       "5.0     927\n",
       "7.0     925\n",
       "4.0     885\n",
       "9.0     882\n",
       "6.0     881\n",
       "10.0    446\n",
       "0.0     382\n",
       "Name: Tenure, dtype: int64"
      ]
     },
     "execution_count": 41,
     "metadata": {},
     "output_type": "execute_result"
    }
   ],
   "source": [
    "churn['Tenure'].value_counts()"
   ]
  },
  {
   "cell_type": "code",
   "execution_count": 42,
   "id": "f081fefb",
   "metadata": {
    "scrolled": true
   },
   "outputs": [
    {
     "name": "stdout",
     "output_type": "stream",
     "text": [
      "<class 'pandas.core.frame.DataFrame'>\n",
      "RangeIndex: 10000 entries, 0 to 9999\n",
      "Data columns (total 17 columns):\n",
      " #   Column           Non-Null Count  Dtype  \n",
      "---  ------           --------------  -----  \n",
      " 0   Unnamed: 0.2     10000 non-null  int64  \n",
      " 1   Unnamed: 0.1     10000 non-null  int64  \n",
      " 2   Unnamed: 0       10000 non-null  int64  \n",
      " 3   RowNumber        10000 non-null  int64  \n",
      " 4   CustomerId       10000 non-null  int64  \n",
      " 5   Surname          10000 non-null  object \n",
      " 6   CreditScore      10000 non-null  int64  \n",
      " 7   Geography        10000 non-null  object \n",
      " 8   Gender           10000 non-null  object \n",
      " 9   Age              10000 non-null  int64  \n",
      " 10  Tenure           10000 non-null  float64\n",
      " 11  Balance          10000 non-null  float64\n",
      " 12  NumOfProducts    10000 non-null  int64  \n",
      " 13  HasCrCard        10000 non-null  int64  \n",
      " 14  IsActiveMember   10000 non-null  int64  \n",
      " 15  EstimatedSalary  10000 non-null  float64\n",
      " 16  Exited           10000 non-null  int64  \n",
      "dtypes: float64(3), int64(11), object(3)\n",
      "memory usage: 1.3+ MB\n"
     ]
    }
   ],
   "source": [
    "churn['Tenure'] = churn['Tenure'].fillna(1)\n",
    "churn.info()"
   ]
  },
  {
   "cell_type": "markdown",
   "id": "eba0582d",
   "metadata": {},
   "source": [
    "Преобразуем категориальные признаки техникой OHE. Для этого сначала удалим те признаки, которые не понадобятся при обучении моделей:"
   ]
  },
  {
   "cell_type": "code",
   "execution_count": 43,
   "id": "9dd99eb5",
   "metadata": {
    "scrolled": false
   },
   "outputs": [],
   "source": [
    "churn.drop([\"RowNumber\", \"CustomerId\", \"Surname\"], axis=1, inplace=True)"
   ]
  },
  {
   "cell_type": "code",
   "execution_count": 44,
   "id": "e49290c2",
   "metadata": {},
   "outputs": [
    {
     "data": {
      "text/html": [
       "<div>\n",
       "<style scoped>\n",
       "    .dataframe tbody tr th:only-of-type {\n",
       "        vertical-align: middle;\n",
       "    }\n",
       "\n",
       "    .dataframe tbody tr th {\n",
       "        vertical-align: top;\n",
       "    }\n",
       "\n",
       "    .dataframe thead th {\n",
       "        text-align: right;\n",
       "    }\n",
       "</style>\n",
       "<table border=\"1\" class=\"dataframe\">\n",
       "  <thead>\n",
       "    <tr style=\"text-align: right;\">\n",
       "      <th></th>\n",
       "      <th>Unnamed: 0.2</th>\n",
       "      <th>Unnamed: 0.1</th>\n",
       "      <th>Unnamed: 0</th>\n",
       "      <th>CreditScore</th>\n",
       "      <th>Age</th>\n",
       "      <th>Tenure</th>\n",
       "      <th>Balance</th>\n",
       "      <th>NumOfProducts</th>\n",
       "      <th>HasCrCard</th>\n",
       "      <th>IsActiveMember</th>\n",
       "      <th>EstimatedSalary</th>\n",
       "      <th>Exited</th>\n",
       "      <th>Geography_Germany</th>\n",
       "      <th>Geography_Spain</th>\n",
       "      <th>Gender_Male</th>\n",
       "    </tr>\n",
       "  </thead>\n",
       "  <tbody>\n",
       "    <tr>\n",
       "      <th>0</th>\n",
       "      <td>0</td>\n",
       "      <td>0</td>\n",
       "      <td>0</td>\n",
       "      <td>619</td>\n",
       "      <td>42</td>\n",
       "      <td>2.0</td>\n",
       "      <td>0.00</td>\n",
       "      <td>1</td>\n",
       "      <td>1</td>\n",
       "      <td>1</td>\n",
       "      <td>101348.88</td>\n",
       "      <td>1</td>\n",
       "      <td>0</td>\n",
       "      <td>0</td>\n",
       "      <td>0</td>\n",
       "    </tr>\n",
       "    <tr>\n",
       "      <th>1</th>\n",
       "      <td>1</td>\n",
       "      <td>1</td>\n",
       "      <td>1</td>\n",
       "      <td>608</td>\n",
       "      <td>41</td>\n",
       "      <td>1.0</td>\n",
       "      <td>83807.86</td>\n",
       "      <td>1</td>\n",
       "      <td>0</td>\n",
       "      <td>1</td>\n",
       "      <td>112542.58</td>\n",
       "      <td>0</td>\n",
       "      <td>0</td>\n",
       "      <td>1</td>\n",
       "      <td>0</td>\n",
       "    </tr>\n",
       "    <tr>\n",
       "      <th>2</th>\n",
       "      <td>2</td>\n",
       "      <td>2</td>\n",
       "      <td>2</td>\n",
       "      <td>502</td>\n",
       "      <td>42</td>\n",
       "      <td>8.0</td>\n",
       "      <td>159660.80</td>\n",
       "      <td>3</td>\n",
       "      <td>1</td>\n",
       "      <td>0</td>\n",
       "      <td>113931.57</td>\n",
       "      <td>1</td>\n",
       "      <td>0</td>\n",
       "      <td>0</td>\n",
       "      <td>0</td>\n",
       "    </tr>\n",
       "    <tr>\n",
       "      <th>3</th>\n",
       "      <td>3</td>\n",
       "      <td>3</td>\n",
       "      <td>3</td>\n",
       "      <td>699</td>\n",
       "      <td>39</td>\n",
       "      <td>1.0</td>\n",
       "      <td>0.00</td>\n",
       "      <td>2</td>\n",
       "      <td>0</td>\n",
       "      <td>0</td>\n",
       "      <td>93826.63</td>\n",
       "      <td>0</td>\n",
       "      <td>0</td>\n",
       "      <td>0</td>\n",
       "      <td>0</td>\n",
       "    </tr>\n",
       "    <tr>\n",
       "      <th>4</th>\n",
       "      <td>4</td>\n",
       "      <td>4</td>\n",
       "      <td>4</td>\n",
       "      <td>850</td>\n",
       "      <td>43</td>\n",
       "      <td>2.0</td>\n",
       "      <td>125510.82</td>\n",
       "      <td>1</td>\n",
       "      <td>1</td>\n",
       "      <td>1</td>\n",
       "      <td>79084.10</td>\n",
       "      <td>0</td>\n",
       "      <td>0</td>\n",
       "      <td>1</td>\n",
       "      <td>0</td>\n",
       "    </tr>\n",
       "  </tbody>\n",
       "</table>\n",
       "</div>"
      ],
      "text/plain": [
       "   Unnamed: 0.2  Unnamed: 0.1  Unnamed: 0  CreditScore  Age  Tenure  \\\n",
       "0             0             0           0          619   42     2.0   \n",
       "1             1             1           1          608   41     1.0   \n",
       "2             2             2           2          502   42     8.0   \n",
       "3             3             3           3          699   39     1.0   \n",
       "4             4             4           4          850   43     2.0   \n",
       "\n",
       "     Balance  NumOfProducts  HasCrCard  IsActiveMember  EstimatedSalary  \\\n",
       "0       0.00              1          1               1        101348.88   \n",
       "1   83807.86              1          0               1        112542.58   \n",
       "2  159660.80              3          1               0        113931.57   \n",
       "3       0.00              2          0               0         93826.63   \n",
       "4  125510.82              1          1               1         79084.10   \n",
       "\n",
       "   Exited  Geography_Germany  Geography_Spain  Gender_Male  \n",
       "0       1                  0                0            0  \n",
       "1       0                  0                1            0  \n",
       "2       1                  0                0            0  \n",
       "3       0                  0                0            0  \n",
       "4       0                  0                1            0  "
      ]
     },
     "execution_count": 44,
     "metadata": {},
     "output_type": "execute_result"
    }
   ],
   "source": [
    "df = pd.get_dummies(churn, drop_first=True)\n",
    "df.head()"
   ]
  },
  {
   "cell_type": "markdown",
   "id": "7a0ad379",
   "metadata": {},
   "source": [
    "Разделим наши исходные данные на обучающую, валидационную и тестовую выборки:"
   ]
  },
  {
   "cell_type": "code",
   "execution_count": 45,
   "id": "4a092d87",
   "metadata": {},
   "outputs": [],
   "source": [
    "features = df.drop('Exited', axis=1)\n",
    "target = df['Exited']"
   ]
  },
  {
   "cell_type": "code",
   "execution_count": 46,
   "id": "886c03da",
   "metadata": {},
   "outputs": [],
   "source": [
    "features_train, features_test_valid, target_train, target_test_valid = train_test_split(features, target, \n",
    "                                                                              test_size=0.4, \n",
    "                                                                              random_state=1, stratify=target)\n",
    "features_valid, features_test, target_valid, target_test = train_test_split(features_test_valid, target_test_valid, \n",
    "                                                                              test_size=0.5, \n",
    "                                                                              random_state=1, stratify=target_test_valid)"
   ]
  },
  {
   "cell_type": "markdown",
   "id": "ff61b268",
   "metadata": {},
   "source": [
    "Масштабируем количественные признаки:"
   ]
  },
  {
   "cell_type": "code",
   "execution_count": 47,
   "id": "c4febc9a",
   "metadata": {
    "scrolled": false
   },
   "outputs": [
    {
     "data": {
      "text/html": [
       "<div>\n",
       "<style scoped>\n",
       "    .dataframe tbody tr th:only-of-type {\n",
       "        vertical-align: middle;\n",
       "    }\n",
       "\n",
       "    .dataframe tbody tr th {\n",
       "        vertical-align: top;\n",
       "    }\n",
       "\n",
       "    .dataframe thead th {\n",
       "        text-align: right;\n",
       "    }\n",
       "</style>\n",
       "<table border=\"1\" class=\"dataframe\">\n",
       "  <thead>\n",
       "    <tr style=\"text-align: right;\">\n",
       "      <th></th>\n",
       "      <th>Unnamed: 0.2</th>\n",
       "      <th>Unnamed: 0.1</th>\n",
       "      <th>Unnamed: 0</th>\n",
       "      <th>CreditScore</th>\n",
       "      <th>Age</th>\n",
       "      <th>Tenure</th>\n",
       "      <th>Balance</th>\n",
       "      <th>NumOfProducts</th>\n",
       "      <th>HasCrCard</th>\n",
       "      <th>IsActiveMember</th>\n",
       "      <th>EstimatedSalary</th>\n",
       "      <th>Geography_Germany</th>\n",
       "      <th>Geography_Spain</th>\n",
       "      <th>Gender_Male</th>\n",
       "    </tr>\n",
       "  </thead>\n",
       "  <tbody>\n",
       "    <tr>\n",
       "      <th>6431</th>\n",
       "      <td>6431</td>\n",
       "      <td>6431</td>\n",
       "      <td>6431</td>\n",
       "      <td>-1.134135</td>\n",
       "      <td>0.002903</td>\n",
       "      <td>-1.194943</td>\n",
       "      <td>-1.218552</td>\n",
       "      <td>1</td>\n",
       "      <td>0</td>\n",
       "      <td>1</td>\n",
       "      <td>0.154604</td>\n",
       "      <td>0</td>\n",
       "      <td>1</td>\n",
       "      <td>1</td>\n",
       "    </tr>\n",
       "    <tr>\n",
       "      <th>7524</th>\n",
       "      <td>7524</td>\n",
       "      <td>7524</td>\n",
       "      <td>7524</td>\n",
       "      <td>0.105387</td>\n",
       "      <td>0.097044</td>\n",
       "      <td>1.151917</td>\n",
       "      <td>1.449089</td>\n",
       "      <td>1</td>\n",
       "      <td>1</td>\n",
       "      <td>1</td>\n",
       "      <td>1.492613</td>\n",
       "      <td>0</td>\n",
       "      <td>0</td>\n",
       "      <td>0</td>\n",
       "    </tr>\n",
       "    <tr>\n",
       "      <th>3430</th>\n",
       "      <td>3430</td>\n",
       "      <td>3430</td>\n",
       "      <td>3430</td>\n",
       "      <td>-0.256140</td>\n",
       "      <td>-0.185380</td>\n",
       "      <td>-1.194943</td>\n",
       "      <td>1.606871</td>\n",
       "      <td>2</td>\n",
       "      <td>1</td>\n",
       "      <td>1</td>\n",
       "      <td>-0.060400</td>\n",
       "      <td>0</td>\n",
       "      <td>0</td>\n",
       "      <td>1</td>\n",
       "    </tr>\n",
       "    <tr>\n",
       "      <th>9088</th>\n",
       "      <td>9088</td>\n",
       "      <td>9088</td>\n",
       "      <td>9088</td>\n",
       "      <td>0.890417</td>\n",
       "      <td>-0.279522</td>\n",
       "      <td>1.151917</td>\n",
       "      <td>0.439565</td>\n",
       "      <td>1</td>\n",
       "      <td>1</td>\n",
       "      <td>1</td>\n",
       "      <td>0.182789</td>\n",
       "      <td>1</td>\n",
       "      <td>0</td>\n",
       "      <td>0</td>\n",
       "    </tr>\n",
       "    <tr>\n",
       "      <th>7606</th>\n",
       "      <td>7606</td>\n",
       "      <td>7606</td>\n",
       "      <td>7606</td>\n",
       "      <td>0.311974</td>\n",
       "      <td>-0.750229</td>\n",
       "      <td>-0.524412</td>\n",
       "      <td>0.813226</td>\n",
       "      <td>3</td>\n",
       "      <td>1</td>\n",
       "      <td>1</td>\n",
       "      <td>1.340512</td>\n",
       "      <td>1</td>\n",
       "      <td>0</td>\n",
       "      <td>0</td>\n",
       "    </tr>\n",
       "  </tbody>\n",
       "</table>\n",
       "</div>"
      ],
      "text/plain": [
       "      Unnamed: 0.2  Unnamed: 0.1  Unnamed: 0  CreditScore       Age    Tenure  \\\n",
       "6431          6431          6431        6431    -1.134135  0.002903 -1.194943   \n",
       "7524          7524          7524        7524     0.105387  0.097044  1.151917   \n",
       "3430          3430          3430        3430    -0.256140 -0.185380 -1.194943   \n",
       "9088          9088          9088        9088     0.890417 -0.279522  1.151917   \n",
       "7606          7606          7606        7606     0.311974 -0.750229 -0.524412   \n",
       "\n",
       "       Balance  NumOfProducts  HasCrCard  IsActiveMember  EstimatedSalary  \\\n",
       "6431 -1.218552              1          0               1         0.154604   \n",
       "7524  1.449089              1          1               1         1.492613   \n",
       "3430  1.606871              2          1               1        -0.060400   \n",
       "9088  0.439565              1          1               1         0.182789   \n",
       "7606  0.813226              3          1               1         1.340512   \n",
       "\n",
       "      Geography_Germany  Geography_Spain  Gender_Male  \n",
       "6431                  0                1            1  \n",
       "7524                  0                0            0  \n",
       "3430                  0                0            1  \n",
       "9088                  1                0            0  \n",
       "7606                  1                0            0  "
      ]
     },
     "execution_count": 47,
     "metadata": {},
     "output_type": "execute_result"
    }
   ],
   "source": [
    "numeric=['CreditScore', 'Age', 'Tenure', 'Balance', 'EstimatedSalary']\n",
    "scaler = StandardScaler()\n",
    "scaler.fit(features_train[numeric]) \n",
    "features_train[numeric] = scaler.transform(features_train[numeric])\n",
    "features_valid[numeric] = scaler.transform(features_valid[numeric])\n",
    "features_test[numeric] = scaler.transform(features_test[numeric])\n",
    "features_train.head()\n"
   ]
  },
  {
   "cell_type": "code",
   "execution_count": 48,
   "id": "0524c397",
   "metadata": {
    "scrolled": true
   },
   "outputs": [
    {
     "data": {
      "text/plain": [
       "0    0.7963\n",
       "1    0.2037\n",
       "Name: Exited, dtype: float64"
      ]
     },
     "metadata": {},
     "output_type": "display_data"
    },
    {
     "data": {
      "text/plain": [
       "<AxesSubplot:>"
      ]
     },
     "execution_count": 48,
     "metadata": {},
     "output_type": "execute_result"
    },
    {
     "data": {
      "image/png": "[encoded data removed]",
      "text/plain": [
       "<Figure size 640x480 with 1 Axes>"
      ]
     },
     "metadata": {},
     "output_type": "display_data"
    }
   ],
   "source": [
    "class_frequency = df['Exited'].value_counts(normalize=True)\n",
    "display(class_frequency)\n",
    "class_frequency.plot(kind='bar')\n"
   ]
  },
  {
   "cell_type": "markdown",
   "id": "63095b10",
   "metadata": {},
   "source": [
    "Наблюдается сильный дисбаланс классов: большая часть значений 0."
   ]
  },
  {
   "cell_type": "markdown",
   "id": "8c1e9a32",
   "metadata": {},
   "source": [
    "Построим модели дерева решений, случайного леса и логистической регрессии для валидационной выборки без учета дисбаланса. Найдем значение F1-меры:"
   ]
  },
  {
   "cell_type": "markdown",
   "id": "53423082",
   "metadata": {},
   "source": [
    "best_model_rf = None  \n",
    "best_result_val_rf = 0\n",
    "best_depth_val_rf = 0\n",
    "for depth in range(1, 20):\n",
    "    rf = RandomForestClassifier(random_state=12345, n_estimators=20, max_depth=depth) \n",
    "    rf.fit(features_train, target_train)\n",
    "    predictions_valid_rf = rf.predict(features_valid)\n",
    "    result_val_rf = f1_score(target_valid, predictions_valid_rf)\n",
    "    if result_val_rf > best_result_val_rf:\n",
    "        best_model_rf = rf\n",
    "        best_result_val_rf = result_val_rf\n",
    "        best_depth_val_rf = depth\n",
    "print(\"Наибольшее значение F1-меры для случайного леса в валидационной выборке:\", best_result_val_rf, 'Глубина дерева:', best_depth_val_rf)\n",
    "\n"
   ]
  },
  {
   "cell_type": "code",
   "execution_count": 50,
   "id": "da1d0785",
   "metadata": {
    "scrolled": true
   },
   "outputs": [
    {
     "name": "stdout",
     "output_type": "stream",
     "text": [
      "F1-мера равна: 0.5567651632970451\n"
     ]
    },
    {
     "data": {
      "image/png": "[encoded data removed]",
      "text/plain": [
       "<Figure size 640x480 with 1 Axes>"
      ]
     },
     "metadata": {},
     "output_type": "display_data"
    },
    {
     "name": "stdout",
     "output_type": "stream",
     "text": [
      "AUC-ROC равен: 0.8280576416169638\n"
     ]
    }
   ],
   "source": [
    "rf = RandomForestClassifier(random_state=12345, n_estimators=30, max_depth=15) \n",
    "rf.fit(features_train, target_train)\n",
    "predictions_valid_rf = rf.predict(features_valid)\n",
    "f1 = f1_score(target_valid, predictions_valid_rf)\n",
    "probabilities_valid = rf.predict_proba(features_valid)\n",
    "probabilities_one_valid = probabilities_valid[:, 1]\n",
    "print('F1-мера равна:', f1)\n",
    "fpr, tpr, thresholds = roc_curve(target_valid, probabilities_one_valid) \n",
    "\n",
    "\n",
    "plt.figure()\n",
    "plt.plot(fpr, tpr)\n",
    "plt.xlim([0.0, 1.0])\n",
    "plt.ylim([0.0, 1.0])\n",
    "plt.xlabel('False Positive Rate')\n",
    "plt.ylabel('True Positive Rate')\n",
    "plt.title('ROC-кривая')\n",
    "plt.show() \n",
    "auc_roc = roc_auc_score(target_valid, probabilities_one_valid)\n",
    "print('AUC-ROC равен:', auc_roc)"
   ]
  },
  {
   "cell_type": "markdown",
   "id": "a3d9fa9e",
   "metadata": {},
   "source": [
    "Наилучший показатель F1-меры модели случайного леса для валидационной выборки равен 0.59 при количестве деревьев, равном 30 и глубине деревьев, равном 13. AUC-ROC при этом равен 0.83. "
   ]
  },
  {
   "cell_type": "markdown",
   "id": "1e53f671",
   "metadata": {},
   "source": [
    "best_model_val_dt = None  \n",
    "best_result_val_dt = 0\n",
    "best_depth_val_dt = 0\n",
    "for depth in range(1, 30):\n",
    "    dt = DecisionTreeClassifier(random_state=12345, max_depth=depth)\n",
    "    dt.fit(features_train, target_train)\n",
    "    predictions_valid_dt = dt.predict(features_valid)\n",
    "    result_val_dt = f1_score(target_valid, predictions_valid_dt)\n",
    "    if result_val_dt > best_result_val_dt:\n",
    "        best_model_val_dt = dt\n",
    "        best_result_val_dt = result_val_dt\n",
    "        best_depth_val_dt = depth\n",
    "print(\"Наибольшее значение F1-меры для решающего дерева в валидационной выборке:\", best_result_val_dt, 'Глубина дерева:', best_depth_val_dt)\n",
    "\n"
   ]
  },
  {
   "cell_type": "code",
   "execution_count": 52,
   "id": "12fbabda",
   "metadata": {
    "scrolled": true
   },
   "outputs": [
    {
     "name": "stdout",
     "output_type": "stream",
     "text": [
      "F1-мера равна: 0.5514018691588785\n"
     ]
    },
    {
     "data": {
      "image/png": "[encoded data removed]",
      "text/plain": [
       "<Figure size 640x480 with 1 Axes>"
      ]
     },
     "metadata": {},
     "output_type": "display_data"
    },
    {
     "name": "stdout",
     "output_type": "stream",
     "text": [
      "AUC-ROC равен: 0.8166417573197234\n"
     ]
    }
   ],
   "source": [
    "dt = DecisionTreeClassifier(random_state=12345, max_depth=6)\n",
    "dt.fit(features_train, target_train)\n",
    "predictions_valid_dt = dt.predict(features_valid)\n",
    "f1_dt = f1_score(target_valid, predictions_valid_dt)\n",
    "probabilities_valid_dt = dt.predict_proba(features_valid)\n",
    "probabilities_one_valid_dt = probabilities_valid_dt[:, 1]\n",
    "print('F1-мера равна:', f1_dt)\n",
    "fpr_dt, tpr_dt, thresholds_dt = roc_curve(target_valid, probabilities_one_valid_dt) \n",
    "\n",
    "\n",
    "plt.figure()\n",
    "plt.plot(fpr_dt, tpr_dt)\n",
    "plt.xlim([0.0, 1.0])\n",
    "plt.ylim([0.0, 1.0])\n",
    "plt.xlabel('False Positive Rate')\n",
    "plt.ylabel('True Positive Rate')\n",
    "plt.title('ROC-кривая')\n",
    "plt.show() \n",
    "auc_roc_dt = roc_auc_score(target_valid, probabilities_one_valid_dt)\n",
    "print('AUC-ROC равен:', auc_roc_dt)"
   ]
  },
  {
   "cell_type": "markdown",
   "id": "99042c73",
   "metadata": {},
   "source": [
    "Наилучший показатель F1-меры модели дерева решений для валидационной выборки равен 0.55 при глубине деревa, равном 6. AUC-ROC при этом равен 0.82. "
   ]
  },
  {
   "cell_type": "code",
   "execution_count": 53,
   "id": "c5601a18",
   "metadata": {
    "scrolled": true
   },
   "outputs": [
    {
     "name": "stdout",
     "output_type": "stream",
     "text": [
      "F1-мера равна: 0.3274647887323943\n"
     ]
    },
    {
     "data": {
      "image/png": "[encoded data removed]",
      "text/plain": [
       "<Figure size 640x480 with 1 Axes>"
      ]
     },
     "metadata": {},
     "output_type": "display_data"
    },
    {
     "name": "stdout",
     "output_type": "stream",
     "text": [
      "AUC-ROC равен: 0.7767258784207938\n"
     ]
    }
   ],
   "source": [
    "lr = LogisticRegression(random_state=12345, solver='lbfgs', max_iter=1000) \n",
    "lr.fit(features_train, target_train)\n",
    "predictions_valid_lr = lr.predict(features_valid)\n",
    "f1_lr = f1_score(target_valid, predictions_valid_lr)\n",
    "probabilities_valid_lr = lr.predict_proba(features_valid)\n",
    "probabilities_one_valid_lr = probabilities_valid_lr[:, 1]\n",
    "print('F1-мера равна:', f1_lr)\n",
    "fpr_lr, tpr_lr, thresholds_lr = roc_curve(target_valid, probabilities_one_valid_lr) \n",
    "\n",
    "\n",
    "plt.figure()\n",
    "plt.plot(fpr_lr, tpr_lr)\n",
    "plt.xlim([0.0, 1.0])\n",
    "plt.ylim([0.0, 1.0])\n",
    "plt.xlabel('False Positive Rate')\n",
    "plt.ylabel('True Positive Rate')\n",
    "plt.title('ROC-кривая')\n",
    "plt.show() \n",
    "auc_roc_lr = roc_auc_score(target_valid, probabilities_one_valid_lr)\n",
    "print('AUC-ROC равен:', auc_roc_lr)"
   ]
  },
  {
   "cell_type": "markdown",
   "id": "d01d5900",
   "metadata": {},
   "source": [
    "Наилучший показатель F1-меры модели логистической регрессии для валидационной выборки равен 0.32. AUC-ROC при этом равен 0.78. "
   ]
  },
  {
   "cell_type": "markdown",
   "id": "9b78e527",
   "metadata": {},
   "source": [
    "Применим upsampling для работы с дисбалансом классов:"
   ]
  },
  {
   "cell_type": "code",
   "execution_count": 54,
   "id": "e01fe75d",
   "metadata": {},
   "outputs": [],
   "source": [
    "def upsample(features, target, repeat):\n",
    "    features_zeros = features[target == 0]\n",
    "    features_ones = features[target == 1]\n",
    "    target_zeros = target[target == 0]\n",
    "    target_ones = target[target == 1]\n",
    "\n",
    "    features_upsampled = pd.concat([features_zeros] + [features_ones] * repeat)\n",
    "    target_upsampled = pd.concat([target_zeros] + [target_ones] * repeat)\n",
    "    features_upsampled, target_upsampled = shuffle(\n",
    "        features_upsampled, target_upsampled, random_state=12345)\n",
    "    \n",
    "    return features_upsampled, target_upsampled\n",
    "\n",
    "features_upsampled, target_upsampled = upsample(features_train, target_train, 4)\n"
   ]
  },
  {
   "cell_type": "markdown",
   "id": "7fa628d4",
   "metadata": {},
   "source": [
    "best_model_rf1 = None  \n",
    "best_result_val_rf1 = 0\n",
    "best_depth_val_rf1 = 0\n",
    "for depth in range(1, 20):\n",
    "    rf1 = RandomForestClassifier(random_state=12345, n_estimators=30, max_depth=depth) \n",
    "    rf1.fit(features_upsampled, target_upsampled)\n",
    "    predictions_valid_rf1 = rf1.predict(features_valid)\n",
    "    result_val_rf1 = f1_score(target_valid, predictions_valid_rf1)\n",
    "    if result_val_rf1 > best_result_val_rf1:\n",
    "        best_model_rf1 = rf1\n",
    "        best_result_val_rf1 = result_val_rf1\n",
    "        best_depth_val_rf1 = depth\n",
    "print(\"Наибольшее значение F1-меры для случайного леса в валидационной выборке:\", best_result_val_rf1, 'Глубина дерева:', best_depth_val_rf1)\n",
    "\n"
   ]
  },
  {
   "cell_type": "code",
   "execution_count": 55,
   "id": "b9388b88",
   "metadata": {},
   "outputs": [
    {
     "name": "stdout",
     "output_type": "stream",
     "text": [
      "F1-мера равна: 0.5941043083900226\n"
     ]
    },
    {
     "data": {
      "image/png": "[encoded data removed]",
      "text/plain": [
       "<Figure size 640x480 with 1 Axes>"
      ]
     },
     "metadata": {},
     "output_type": "display_data"
    },
    {
     "name": "stdout",
     "output_type": "stream",
     "text": [
      "AUC-ROC равен: 0.833570087807376\n"
     ]
    }
   ],
   "source": [
    "rf1 = RandomForestClassifier(random_state=12345, n_estimators=30, max_depth=11) \n",
    "rf1.fit(features_upsampled, target_upsampled)\n",
    "predictions_valid_rf1 = rf1.predict(features_valid)\n",
    "f1_rf1 = f1_score(target_valid, predictions_valid_rf1)\n",
    "probabilities_valid_rf1 = rf1.predict_proba(features_valid)\n",
    "probabilities_one_valid_rf1 = probabilities_valid_rf1[:, 1]\n",
    "print('F1-мера равна:', f1_rf1)\n",
    "fpr_rf1, tpr_rf1, thresholds_rf1 = roc_curve(target_valid, probabilities_one_valid_rf1) \n",
    "\n",
    "\n",
    "plt.figure()\n",
    "plt.plot(fpr_rf1, tpr_rf1)\n",
    "plt.xlim([0.0, 1.0])\n",
    "plt.ylim([0.0, 1.0])\n",
    "plt.xlabel('False Positive Rate')\n",
    "plt.ylabel('True Positive Rate')\n",
    "plt.title('ROC-кривая')\n",
    "plt.show() \n",
    "auc_roc_rf1 = roc_auc_score(target_valid, probabilities_one_valid_rf1)\n",
    "print('AUC-ROC равен:', auc_roc_rf1)"
   ]
  },
  {
   "cell_type": "markdown",
   "id": "667aa062",
   "metadata": {},
   "source": [
    "Наилучший показатель F1-меры модели случайного леса для валидационной выборки равен 0.6 при количестве деревьев, равном 30 и глубине деревьев, равном 11. AUC-ROC при этом равен 0.83. "
   ]
  },
  {
   "cell_type": "markdown",
   "id": "7bd88f34",
   "metadata": {},
   "source": [
    "best_model_dt1 = None  \n",
    "best_result_val_dt1 = 0\n",
    "best_depth_val_dt1 = 0\n",
    "for depth in range(1, 20):\n",
    "    dt1 = DecisionTreeClassifier(random_state=12345, max_depth=depth)\n",
    "    dt1.fit(features_upsampled, target_upsampled)\n",
    "    predictions_valid_dt1 = dt1.predict(features_valid)\n",
    "    result_val_dt1 = f1_score(target_valid, predictions_valid_dt1)\n",
    "    if result_val_dt1 > best_result_val_dt1:\n",
    "        best_model_dt1 = dt1\n",
    "        best_result_val_dt1 = result_val_dt1\n",
    "        best_depth_val_dt1 = depth\n",
    "print(\"Наибольшее значение F1-меры для решающего дерева в валидационной выборке:\", best_result_val_dt1, 'Глубина дерева:', best_depth_val_dt1)\n",
    "\n"
   ]
  },
  {
   "cell_type": "code",
   "execution_count": 56,
   "id": "d97972f8",
   "metadata": {},
   "outputs": [
    {
     "name": "stdout",
     "output_type": "stream",
     "text": [
      "F1-мера равна: 0.5597609561752988\n"
     ]
    },
    {
     "data": {
      "image/png": "[encoded data removed]",
      "text/plain": [
       "<Figure size 640x480 with 1 Axes>"
      ]
     },
     "metadata": {},
     "output_type": "display_data"
    },
    {
     "name": "stdout",
     "output_type": "stream",
     "text": [
      "AUC-ROC равен: 0.8195745822864468\n"
     ]
    }
   ],
   "source": [
    "dt1 = DecisionTreeClassifier(random_state=12345, max_depth=6)\n",
    "dt1.fit(features_upsampled, target_upsampled)\n",
    "predictions_valid_dt1 = dt1.predict(features_valid)\n",
    "f1_dt1 = f1_score(target_valid, predictions_valid_dt1)\n",
    "probabilities_valid_dt1 = dt1.predict_proba(features_valid)\n",
    "probabilities_one_valid_dt1 = probabilities_valid_dt1[:, 1]\n",
    "print('F1-мера равна:', f1_dt1)\n",
    "fpr_dt1, tpr_dt1, thresholds_dt1 = roc_curve(target_valid, probabilities_one_valid_dt1) \n",
    "\n",
    "\n",
    "plt.figure()\n",
    "plt.plot(fpr_dt1, tpr_dt1)\n",
    "plt.xlim([0.0, 1.0])\n",
    "plt.ylim([0.0, 1.0])\n",
    "plt.xlabel('False Positive Rate')\n",
    "plt.ylabel('True Positive Rate')\n",
    "plt.title('ROC-кривая')\n",
    "plt.show() \n",
    "auc_roc_dt1 = roc_auc_score(target_valid, probabilities_one_valid_dt1)\n",
    "print('AUC-ROC равен:', auc_roc_dt1)"
   ]
  },
  {
   "cell_type": "markdown",
   "id": "601a7c40",
   "metadata": {},
   "source": [
    "Наилучший показатель F1-меры модели дерева решений для валидационной выборки равен 0.56 при глубине деревa, равном 6. AUC-ROC при этом равен 0.82. "
   ]
  },
  {
   "cell_type": "code",
   "execution_count": 57,
   "id": "b1f30e39",
   "metadata": {},
   "outputs": [
    {
     "name": "stdout",
     "output_type": "stream",
     "text": [
      "F1-мера равна: 0.48810572687224674\n"
     ]
    },
    {
     "data": {
      "image/png": "[encoded data removed]",
      "text/plain": [
       "<Figure size 640x480 with 1 Axes>"
      ]
     },
     "metadata": {},
     "output_type": "display_data"
    },
    {
     "name": "stdout",
     "output_type": "stream",
     "text": [
      "AUC-ROC равен: 0.7588266232334029\n"
     ]
    }
   ],
   "source": [
    "lr1=LogisticRegression(random_state=12345, solver='lbfgs', max_iter=1000) \n",
    "lr1.fit(features_upsampled, target_upsampled)\n",
    "predictions_valid_lr1 = lr1.predict(features_valid)\n",
    "f1_lr1 = f1_score(target_valid, predictions_valid_lr1)\n",
    "\n",
    "probabilities_valid_lr1 = lr1.predict_proba(features_valid)\n",
    "probabilities_one_valid_lr1 = probabilities_valid_lr1[:, 1]\n",
    "print('F1-мера равна:', f1_lr1)\n",
    "fpr_lr1, tpr_lr1, thresholds_lr1 = roc_curve(target_valid, probabilities_one_valid_lr1) \n",
    "\n",
    "\n",
    "plt.figure()\n",
    "plt.plot(fpr_lr1, tpr_lr1)\n",
    "plt.xlim([0.0, 1.0])\n",
    "plt.ylim([0.0, 1.0])\n",
    "plt.xlabel('False Positive Rate')\n",
    "plt.ylabel('True Positive Rate')\n",
    "plt.title('ROC-кривая')\n",
    "plt.show() \n",
    "auc_roc_lr1 = roc_auc_score(target_valid, probabilities_one_valid_lr1)\n",
    "print('AUC-ROC равен:', auc_roc_lr1)"
   ]
  },
  {
   "cell_type": "markdown",
   "id": "6f753591",
   "metadata": {},
   "source": [
    "Наилучший показатель F1-меры модели логистической регрессии для валидационной выборки равен 0.51. AUC-ROC при этом равен 0.78. "
   ]
  },
  {
   "cell_type": "markdown",
   "id": "3f781186",
   "metadata": {},
   "source": [
    "Применим downsampling для работы с дисбалансом классов:"
   ]
  },
  {
   "cell_type": "code",
   "execution_count": 58,
   "id": "747b09bd",
   "metadata": {},
   "outputs": [],
   "source": [
    "def downsample(features, target, fraction):\n",
    "    features_zeros = features[target == 0]\n",
    "    features_ones = features[target == 1]\n",
    "    target_zeros = target[target == 0]\n",
    "    target_ones = target[target == 1]\n",
    "\n",
    "    features_downsampled = pd.concat(\n",
    "        [features_zeros.sample(frac=fraction, random_state=12345)] + [features_ones])\n",
    "    target_downsampled = pd.concat(\n",
    "        [target_zeros.sample(frac=fraction, random_state=12345)] + [target_ones])\n",
    "    \n",
    "    features_downsampled, target_downsampled = shuffle(\n",
    "        features_downsampled, target_downsampled, random_state=12345)\n",
    "    \n",
    "    return features_downsampled, target_downsampled\n",
    "features_downsampled, target_downsampled = downsample(features_train, target_train, 0.25)"
   ]
  },
  {
   "cell_type": "markdown",
   "id": "7a40a2ad",
   "metadata": {},
   "source": [
    "best_model_rf2 = None  \n",
    "best_result_val_rf2 = 0\n",
    "best_depth_val_rf2 = 0\n",
    "for depth in range(1, 20):\n",
    "    rf2 = RandomForestClassifier(random_state=12345, n_estimators=30, max_depth=depth) \n",
    "    rf2.fit(features_downsampled, target_downsampled)\n",
    "    predictions_valid_rf2 = rf2.predict(features_valid)\n",
    "    result_val_rf2 = f1_score(target_valid, predictions_valid_rf2)\n",
    "    if result_val_rf2 > best_result_val_rf2:\n",
    "        best_model_rf2 = rf2\n",
    "        best_result_val_rf2 = result_val_rf2\n",
    "        best_depth_val_rf2 = depth\n",
    "print(\"Наибольшее значение F1-меры для случайного леса в валидационной выборке:\", best_result_val_rf2, 'Глубина дерева:', best_depth_val_rf2)\n"
   ]
  },
  {
   "cell_type": "code",
   "execution_count": 59,
   "id": "48bca0e1",
   "metadata": {},
   "outputs": [
    {
     "name": "stdout",
     "output_type": "stream",
     "text": [
      "F1-мера равна: 0.5941043083900226\n"
     ]
    },
    {
     "data": {
      "image/png": "[encoded data removed]",
      "text/plain": [
       "<Figure size 640x480 with 1 Axes>"
      ]
     },
     "metadata": {},
     "output_type": "display_data"
    },
    {
     "name": "stdout",
     "output_type": "stream",
     "text": [
      "AUC-ROC равен: 0.827792353216082\n"
     ]
    }
   ],
   "source": [
    "rf2 = RandomForestClassifier(random_state=12345, n_estimators=30, max_depth=8) \n",
    "rf2.fit(features_downsampled, target_downsampled)\n",
    "predictions_valid_rf2 = rf1.predict(features_valid)\n",
    "f1_rf2 = f1_score(target_valid, predictions_valid_rf2)\n",
    "probabilities_valid_rf2 = rf2.predict_proba(features_valid)\n",
    "probabilities_one_valid_rf2 = probabilities_valid_rf2[:, 1]\n",
    "print('F1-мера равна:', f1_rf2)\n",
    "fpr_rf2, tpr_rf2, thresholds_rf2 = roc_curve(target_valid, probabilities_one_valid_rf2) \n",
    "\n",
    "\n",
    "plt.figure()\n",
    "plt.plot(fpr_rf2, tpr_rf2)\n",
    "plt.xlim([0.0, 1.0])\n",
    "plt.ylim([0.0, 1.0])\n",
    "plt.xlabel('False Positive Rate')\n",
    "plt.ylabel('True Positive Rate')\n",
    "plt.title('ROC-кривая')\n",
    "plt.show() \n",
    "auc_roc_rf2 = roc_auc_score(target_valid, probabilities_one_valid_rf2)\n",
    "print('AUC-ROC равен:', auc_roc_rf2)"
   ]
  },
  {
   "cell_type": "markdown",
   "id": "f2d1f0d9",
   "metadata": {},
   "source": [
    "Наилучший показатель F1-меры модели случайного леса для валидационной выборки равен 0.6 при количестве деревьев, равном 30 и глубине деревьев, равном 8. AUC-ROC при этом равен 0.83."
   ]
  },
  {
   "cell_type": "markdown",
   "id": "306c5faf",
   "metadata": {},
   "source": [
    "best_model_dt2 = None  \n",
    "best_result_val_dt2 = 0\n",
    "best_depth_val_dt2 = 0\n",
    "for depth in range(1, 20):\n",
    "    dt2 = DecisionTreeClassifier(random_state=12345, max_depth=depth)\n",
    "    dt2.fit(features_downsampled, target_downsampled)\n",
    "    predictions_valid_dt2 = dt2.predict(features_valid)\n",
    "    result_val_dt2 = f1_score(target_valid, predictions_valid_dt2)\n",
    "    if result_val_dt2 > best_result_val_dt2:\n",
    "        best_model_dt2 = dt2\n",
    "        best_result_val_dt2 = result_val_dt2\n",
    "        best_depth_val_dt2 = depth\n",
    "print(\"Наибольшее значение F1-меры для решающего дерева в валидационной выборке:\", best_result_val_dt2, 'Глубина дерева:', best_depth_val_dt2)\n"
   ]
  },
  {
   "cell_type": "code",
   "execution_count": 60,
   "id": "a3766e51",
   "metadata": {},
   "outputs": [
    {
     "name": "stdout",
     "output_type": "stream",
     "text": [
      "F1-мера равна: 0.5407407407407407\n"
     ]
    },
    {
     "data": {
      "image/png": "[encoded data removed]",
      "text/plain": [
       "<Figure size 640x480 with 1 Axes>"
      ]
     },
     "metadata": {},
     "output_type": "display_data"
    },
    {
     "name": "stdout",
     "output_type": "stream",
     "text": [
      "AUC-ROC равен: 0.8059800941156873\n"
     ]
    }
   ],
   "source": [
    "dt2 = DecisionTreeClassifier(random_state=12345, max_depth=6)\n",
    "dt2.fit(features_downsampled, target_downsampled)\n",
    "predictions_valid_dt2 = dt2.predict(features_valid)\n",
    "f1_dt2 = f1_score(target_valid, predictions_valid_dt2)\n",
    "probabilities_valid_dt2 = dt2.predict_proba(features_valid)\n",
    "probabilities_one_valid_dt2 = probabilities_valid_dt2[:, 1]\n",
    "print('F1-мера равна:', f1_dt2)\n",
    "fpr_dt2, tpr_dt2, thresholds_dt2 = roc_curve(target_valid, probabilities_one_valid_dt2) \n",
    "\n",
    "\n",
    "plt.figure()\n",
    "plt.plot(fpr_dt2, tpr_dt2)\n",
    "plt.xlim([0.0, 1.0])\n",
    "plt.ylim([0.0, 1.0])\n",
    "plt.xlabel('False Positive Rate')\n",
    "plt.ylabel('True Positive Rate')\n",
    "plt.title('ROC-кривая')\n",
    "plt.show() \n",
    "auc_roc_dt2 = roc_auc_score(target_valid, probabilities_one_valid_dt2)\n",
    "print('AUC-ROC равен:', auc_roc_dt2)"
   ]
  },
  {
   "cell_type": "markdown",
   "id": "4bca4215",
   "metadata": {},
   "source": [
    "Наилучший показатель F1-меры модели дерева решений для валидационной выборки равен 0.54 при глубине деревa, равном 6. AUC-ROC при этом равен 0.8. "
   ]
  },
  {
   "cell_type": "code",
   "execution_count": 61,
   "id": "721d27c9",
   "metadata": {},
   "outputs": [
    {
     "name": "stdout",
     "output_type": "stream",
     "text": [
      "F1-мера равна: 0.4917175239755885\n"
     ]
    },
    {
     "data": {
      "image/png": "[encoded data removed]",
      "text/plain": [
       "<Figure size 640x480 with 1 Axes>"
      ]
     },
     "metadata": {},
     "output_type": "display_data"
    },
    {
     "name": "stdout",
     "output_type": "stream",
     "text": [
      "AUC-ROC равен: 0.7590965387575557\n"
     ]
    }
   ],
   "source": [
    "lr2 = LogisticRegression(random_state=12345, solver='lbfgs', max_iter=1000) \n",
    "lr2.fit(features_downsampled, target_downsampled)\n",
    "predictions_valid_lr2 = lr2.predict(features_valid)\n",
    "f1_lr2 = f1_score(target_valid, predictions_valid_lr2)\n",
    "probabilities_valid_lr2 = lr2.predict_proba(features_valid)\n",
    "probabilities_one_valid_lr2 = probabilities_valid_lr2[:, 1]\n",
    "print('F1-мера равна:', f1_lr2)\n",
    "fpr_lr2, tpr_lr2, thresholds_lr2 = roc_curve(target_valid, probabilities_one_valid_lr2) \n",
    "\n",
    "\n",
    "plt.figure()\n",
    "plt.plot(fpr_lr2, tpr_lr2)\n",
    "plt.xlim([0.0, 1.0])\n",
    "plt.ylim([0.0, 1.0])\n",
    "plt.xlabel('False Positive Rate')\n",
    "plt.ylabel('True Positive Rate')\n",
    "plt.title('ROC-кривая')\n",
    "plt.show() \n",
    "auc_roc_lr2 = roc_auc_score(target_valid, probabilities_one_valid_lr2)\n",
    "print('AUC-ROC равен:', auc_roc_lr2)"
   ]
  },
  {
   "cell_type": "markdown",
   "id": "afcc1936",
   "metadata": {},
   "source": [
    "Наилучший показатель F1-меры модели логистической регрессии для валидационной выборки равен 0.51. AUC-ROC при этом равен 0.78. "
   ]
  },
  {
   "cell_type": "code",
   "execution_count": 62,
   "id": "f452d779",
   "metadata": {},
   "outputs": [
    {
     "data": {
      "text/html": [
       "<div>\n",
       "<style scoped>\n",
       "    .dataframe tbody tr th:only-of-type {\n",
       "        vertical-align: middle;\n",
       "    }\n",
       "\n",
       "    .dataframe tbody tr th {\n",
       "        vertical-align: top;\n",
       "    }\n",
       "\n",
       "    .dataframe thead th {\n",
       "        text-align: right;\n",
       "    }\n",
       "</style>\n",
       "<table border=\"1\" class=\"dataframe\">\n",
       "  <thead>\n",
       "    <tr style=\"text-align: right;\">\n",
       "      <th></th>\n",
       "      <th>imbalance_struggle</th>\n",
       "      <th>name_of_model</th>\n",
       "      <th>n_estimators</th>\n",
       "      <th>max_depth</th>\n",
       "      <th>solver</th>\n",
       "      <th>max_iter</th>\n",
       "      <th>F1</th>\n",
       "      <th>AUC-ROC</th>\n",
       "    </tr>\n",
       "  </thead>\n",
       "  <tbody>\n",
       "    <tr>\n",
       "      <th>0</th>\n",
       "      <td>Upsampling</td>\n",
       "      <td>RandomForestClassifier</td>\n",
       "      <td>30</td>\n",
       "      <td>11</td>\n",
       "      <td>x</td>\n",
       "      <td>x</td>\n",
       "      <td>0.60</td>\n",
       "      <td>0.83</td>\n",
       "    </tr>\n",
       "    <tr>\n",
       "      <th>1</th>\n",
       "      <td>Upsampling</td>\n",
       "      <td>DecisionTreeClassifier</td>\n",
       "      <td>x</td>\n",
       "      <td>6</td>\n",
       "      <td>x</td>\n",
       "      <td>x</td>\n",
       "      <td>0.56</td>\n",
       "      <td>0.82</td>\n",
       "    </tr>\n",
       "    <tr>\n",
       "      <th>2</th>\n",
       "      <td>Upsampling</td>\n",
       "      <td>LogisticRegression</td>\n",
       "      <td>x</td>\n",
       "      <td>x</td>\n",
       "      <td>lbfgs</td>\n",
       "      <td>1000</td>\n",
       "      <td>0.51</td>\n",
       "      <td>0.78</td>\n",
       "    </tr>\n",
       "    <tr>\n",
       "      <th>3</th>\n",
       "      <td>Downsampling</td>\n",
       "      <td>RandomForestClassifier</td>\n",
       "      <td>30</td>\n",
       "      <td>8</td>\n",
       "      <td>x</td>\n",
       "      <td>x</td>\n",
       "      <td>0.60</td>\n",
       "      <td>0.83</td>\n",
       "    </tr>\n",
       "    <tr>\n",
       "      <th>4</th>\n",
       "      <td>Downsampling</td>\n",
       "      <td>DecisionTreeClassifier</td>\n",
       "      <td>x</td>\n",
       "      <td>6</td>\n",
       "      <td>x</td>\n",
       "      <td>x</td>\n",
       "      <td>0.54</td>\n",
       "      <td>0.80</td>\n",
       "    </tr>\n",
       "    <tr>\n",
       "      <th>5</th>\n",
       "      <td>Downsampling</td>\n",
       "      <td>LogisticRegression</td>\n",
       "      <td>x</td>\n",
       "      <td>x</td>\n",
       "      <td>lbfgs</td>\n",
       "      <td>1000</td>\n",
       "      <td>0.51</td>\n",
       "      <td>0.78</td>\n",
       "    </tr>\n",
       "  </tbody>\n",
       "</table>\n",
       "</div>"
      ],
      "text/plain": [
       "  imbalance_struggle           name_of_model n_estimators max_depth solver  \\\n",
       "0         Upsampling  RandomForestClassifier           30        11      x   \n",
       "1         Upsampling  DecisionTreeClassifier            x         6      x   \n",
       "2         Upsampling      LogisticRegression            x         x  lbfgs   \n",
       "3       Downsampling  RandomForestClassifier           30         8      x   \n",
       "4       Downsampling  DecisionTreeClassifier            x         6      x   \n",
       "5       Downsampling      LogisticRegression            x         x  lbfgs   \n",
       "\n",
       "  max_iter    F1  AUC-ROC  \n",
       "0        x  0.60     0.83  \n",
       "1        x  0.56     0.82  \n",
       "2     1000  0.51     0.78  \n",
       "3        x  0.60     0.83  \n",
       "4        x  0.54     0.80  \n",
       "5     1000  0.51     0.78  "
      ]
     },
     "metadata": {},
     "output_type": "display_data"
    }
   ],
   "source": [
    "columns_name = ['imbalance_struggle', 'name_of_model', 'n_estimators', 'max_depth', 'solver', 'max_iter', 'F1', 'AUC-ROC']\n",
    "info = [['Upsampling', 'RandomForestClassifier', 30, 11, 'x', 'x', 0.6, 0.83],\n",
    "         ['Upsampling', 'DecisionTreeClassifier', 'x', 6, 'x', 'x', 0.56, 0.82],\n",
    "['Upsampling', 'LogisticRegression', 'x', 'x', 'lbfgs', 1000, 0.51, 0.78],\n",
    "['Downsampling', 'RandomForestClassifier', 30, 8, 'x', 'x', 0.6, 0.83],\n",
    "['Downsampling', 'DecisionTreeClassifier', 'x', 6, 'x', 'x', 0.54, 0.8],\n",
    "['Downsampling', 'LogisticRegression', 'x', 'x', 'lbfgs', 1000, 0.51, 0.78]]\n",
    "df_2 = pd.DataFrame(data = info, columns = columns_name)\n",
    "display(df_2)"
   ]
  },
  {
   "cell_type": "markdown",
   "id": "edc2adc0",
   "metadata": {},
   "source": [
    "Проверка на тестовой выборке. Уменьшение выборки у модели случайного леса показало наилучший результат F1-меры. Именно ее и применим на тестовой выборке:"
   ]
  },
  {
   "cell_type": "code",
   "execution_count": 63,
   "id": "aebb7e10",
   "metadata": {},
   "outputs": [
    {
     "name": "stdout",
     "output_type": "stream",
     "text": [
      "F1-мера равна: 0.5603038936372269\n"
     ]
    },
    {
     "data": {
      "image/png": "[encoded data removed]",
      "text/plain": [
       "<Figure size 640x480 with 1 Axes>"
      ]
     },
     "metadata": {},
     "output_type": "display_data"
    },
    {
     "name": "stdout",
     "output_type": "stream",
     "text": [
      "AUC-ROC равен: 0.8311363804315695\n"
     ]
    }
   ],
   "source": [
    "model = RandomForestClassifier(random_state=12345, n_estimators=30, max_depth=11)\n",
    "model.fit(features_downsampled, target_downsampled)\n",
    "predictions_test = model.predict(features_test)\n",
    "f1=f1_score(target_test, predictions_test)\n",
    "probabilities_test = model.predict_proba(features_test)\n",
    "probabilities_one_test = probabilities_test[:, 1]\n",
    "print('F1-мера равна:', f1)\n",
    "fpr_test, tpr_test, thresholds_test = roc_curve(target_test, probabilities_one_test) \n",
    "\n",
    "\n",
    "plt.figure()\n",
    "plt.plot(fpr_test, tpr_test)\n",
    "plt.xlim([0.0, 1.0])\n",
    "plt.ylim([0.0, 1.0])\n",
    "plt.xlabel('False Positive Rate')\n",
    "plt.ylabel('True Positive Rate')\n",
    "plt.title('ROC-кривая')\n",
    "plt.show() \n",
    "auc_roc_test = roc_auc_score(target_test, probabilities_one_test)\n",
    "print('AUC-ROC равен:', auc_roc_test)\n"
   ]
  },
  {
   "cell_type": "markdown",
   "id": "d91b0321",
   "metadata": {},
   "source": [
    "## Вывод:\n",
    "\n",
    "Итак, нами был проведен анализ данных клиентов \"Бета-Банка\". В столбце `Tenure` пропуски заполнли модой, а именно единицей. Выявили дисбаланс классов, почти 80% значений целевого признака равны 0. Удалили признаки, которые не понадобились при обучении моделей, преобразовали категориальные признаки техникой OHE, масштабировали количественные признаки.\n",
    "\n",
    "Сначала построили модели случайного леса, решающего дерева и логистической регрессии без учета дисбаланса. Самый лучший результат F1 меры 0.59 показала модель случайного леса при количестве деревьев, равным 30 и глубиной деревьев 13.\n",
    "\n",
    "Затем провели борьбу с дсбалансом. Приенили upsampling и downsampling. Метрика F1 меры у модели случайного леса при увеличении выборки выросла до 0.6. При проверке на тестовой выборке модели, которая выдала лучший результат, значение F1 меры оказалось равным 0.59."
   ]
  },
  {
   "cell_type": "markdown",
   "id": "61d12a08",
   "metadata": {},
   "source": [
    "https://github.com/Dilya1771/-supervised-learning"
   ]
  }
 ],
 "metadata": {
  "ExecuteTimeLog": [
   {
    "duration": 1075,
    "start_time": "2022-08-20T10:47:06.502Z"
   },
   {
    "duration": 137,
    "start_time": "2022-08-20T10:47:07.578Z"
   },
   {
    "duration": 0,
    "start_time": "2022-08-20T10:47:07.717Z"
   },
   {
    "duration": 0,
    "start_time": "2022-08-20T10:47:07.720Z"
   },
   {
    "duration": 0,
    "start_time": "2022-08-20T10:47:07.721Z"
   },
   {
    "duration": 0,
    "start_time": "2022-08-20T10:47:07.722Z"
   },
   {
    "duration": 0,
    "start_time": "2022-08-20T10:47:07.723Z"
   },
   {
    "duration": 0,
    "start_time": "2022-08-20T10:47:07.724Z"
   },
   {
    "duration": 0,
    "start_time": "2022-08-20T10:47:07.725Z"
   },
   {
    "duration": 0,
    "start_time": "2022-08-20T10:47:07.726Z"
   },
   {
    "duration": 0,
    "start_time": "2022-08-20T10:47:07.728Z"
   },
   {
    "duration": 0,
    "start_time": "2022-08-20T10:47:07.729Z"
   },
   {
    "duration": 0,
    "start_time": "2022-08-20T10:47:07.729Z"
   },
   {
    "duration": 0,
    "start_time": "2022-08-20T10:47:07.730Z"
   },
   {
    "duration": 0,
    "start_time": "2022-08-20T10:47:07.731Z"
   },
   {
    "duration": 0,
    "start_time": "2022-08-20T10:47:07.732Z"
   },
   {
    "duration": 0,
    "start_time": "2022-08-20T10:47:07.733Z"
   },
   {
    "duration": 0,
    "start_time": "2022-08-20T10:47:07.734Z"
   },
   {
    "duration": 0,
    "start_time": "2022-08-20T10:47:07.735Z"
   },
   {
    "duration": 0,
    "start_time": "2022-08-20T10:47:07.757Z"
   },
   {
    "duration": 0,
    "start_time": "2022-08-20T10:47:07.758Z"
   },
   {
    "duration": 0,
    "start_time": "2022-08-20T10:47:07.759Z"
   },
   {
    "duration": 0,
    "start_time": "2022-08-20T10:47:07.760Z"
   },
   {
    "duration": 1099,
    "start_time": "2022-08-20T10:47:47.571Z"
   },
   {
    "duration": 97,
    "start_time": "2022-08-20T10:47:48.672Z"
   },
   {
    "duration": 11,
    "start_time": "2022-08-20T10:47:48.770Z"
   },
   {
    "duration": 10,
    "start_time": "2022-08-20T10:47:48.783Z"
   },
   {
    "duration": 12,
    "start_time": "2022-08-20T10:47:48.795Z"
   },
   {
    "duration": 5,
    "start_time": "2022-08-20T10:47:48.808Z"
   },
   {
    "duration": 20,
    "start_time": "2022-08-20T10:47:48.814Z"
   },
   {
    "duration": 28,
    "start_time": "2022-08-20T10:47:48.835Z"
   },
   {
    "duration": 7,
    "start_time": "2022-08-20T10:47:48.864Z"
   },
   {
    "duration": 25,
    "start_time": "2022-08-20T10:47:48.873Z"
   },
   {
    "duration": 6,
    "start_time": "2022-08-20T10:47:48.900Z"
   },
   {
    "duration": 3002,
    "start_time": "2022-08-20T10:47:48.908Z"
   },
   {
    "duration": 399,
    "start_time": "2022-08-20T10:47:51.912Z"
   },
   {
    "duration": 153,
    "start_time": "2022-08-20T10:47:52.313Z"
   },
   {
    "duration": 103,
    "start_time": "2022-08-20T10:47:52.558Z"
   },
   {
    "duration": 8552,
    "start_time": "2022-08-20T10:47:52.663Z"
   },
   {
    "duration": 728,
    "start_time": "2022-08-20T10:48:01.217Z"
   },
   {
    "duration": 414,
    "start_time": "2022-08-20T10:48:01.947Z"
   },
   {
    "duration": 95,
    "start_time": "2022-08-20T10:48:02.363Z"
   },
   {
    "duration": 3489,
    "start_time": "2022-08-20T10:48:02.459Z"
   },
   {
    "duration": 1682,
    "start_time": "2022-08-20T10:48:05.949Z"
   },
   {
    "duration": 133,
    "start_time": "2022-08-20T10:48:07.633Z"
   },
   {
    "duration": 318,
    "start_time": "2022-08-20T10:48:07.857Z"
   },
   {
    "duration": 46,
    "start_time": "2022-08-21T03:54:10.909Z"
   },
   {
    "duration": 1078,
    "start_time": "2022-08-21T03:54:28.158Z"
   },
   {
    "duration": 101,
    "start_time": "2022-08-21T03:54:29.238Z"
   },
   {
    "duration": 12,
    "start_time": "2022-08-21T03:54:29.341Z"
   },
   {
    "duration": 11,
    "start_time": "2022-08-21T03:54:29.354Z"
   },
   {
    "duration": 6,
    "start_time": "2022-08-21T03:54:29.368Z"
   },
   {
    "duration": 12,
    "start_time": "2022-08-21T03:54:29.375Z"
   },
   {
    "duration": 17,
    "start_time": "2022-08-21T03:54:29.388Z"
   },
   {
    "duration": 8,
    "start_time": "2022-08-21T03:54:29.407Z"
   },
   {
    "duration": 7,
    "start_time": "2022-08-21T03:54:29.416Z"
   },
   {
    "duration": 26,
    "start_time": "2022-08-21T03:54:29.425Z"
   },
   {
    "duration": 37,
    "start_time": "2022-08-21T03:54:29.452Z"
   },
   {
    "duration": 71,
    "start_time": "2022-08-21T03:54:29.490Z"
   },
   {
    "duration": 0,
    "start_time": "2022-08-21T03:54:29.563Z"
   },
   {
    "duration": 0,
    "start_time": "2022-08-21T03:54:29.564Z"
   },
   {
    "duration": 0,
    "start_time": "2022-08-21T03:54:29.565Z"
   },
   {
    "duration": 0,
    "start_time": "2022-08-21T03:54:29.566Z"
   },
   {
    "duration": 0,
    "start_time": "2022-08-21T03:54:29.567Z"
   },
   {
    "duration": 0,
    "start_time": "2022-08-21T03:54:29.568Z"
   },
   {
    "duration": 0,
    "start_time": "2022-08-21T03:54:29.569Z"
   },
   {
    "duration": 0,
    "start_time": "2022-08-21T03:54:29.570Z"
   },
   {
    "duration": 0,
    "start_time": "2022-08-21T03:54:29.571Z"
   },
   {
    "duration": 0,
    "start_time": "2022-08-21T03:54:29.586Z"
   },
   {
    "duration": 0,
    "start_time": "2022-08-21T03:54:29.588Z"
   },
   {
    "duration": 6,
    "start_time": "2022-08-21T03:55:01.435Z"
   },
   {
    "duration": 3,
    "start_time": "2022-08-21T03:55:54.686Z"
   },
   {
    "duration": 58,
    "start_time": "2022-08-21T03:55:54.691Z"
   },
   {
    "duration": 12,
    "start_time": "2022-08-21T03:55:54.751Z"
   },
   {
    "duration": 10,
    "start_time": "2022-08-21T03:55:54.765Z"
   },
   {
    "duration": 52,
    "start_time": "2022-08-21T03:56:18.142Z"
   },
   {
    "duration": 7,
    "start_time": "2022-08-21T03:56:44.034Z"
   },
   {
    "duration": 523,
    "start_time": "2022-08-21T03:57:21.857Z"
   },
   {
    "duration": 6,
    "start_time": "2022-08-21T03:58:02.408Z"
   },
   {
    "duration": 122,
    "start_time": "2022-08-21T04:00:30.810Z"
   },
   {
    "duration": 124,
    "start_time": "2022-08-21T04:00:56.814Z"
   },
   {
    "duration": 110,
    "start_time": "2022-08-21T04:01:04.769Z"
   },
   {
    "duration": 5,
    "start_time": "2022-08-21T04:01:47.082Z"
   },
   {
    "duration": 13,
    "start_time": "2022-08-21T04:04:31.045Z"
   },
   {
    "duration": 93,
    "start_time": "2022-08-21T15:46:51.363Z"
   },
   {
    "duration": 43,
    "start_time": "2022-08-21T15:46:59.143Z"
   },
   {
    "duration": 1146,
    "start_time": "2022-08-21T15:47:06.683Z"
   },
   {
    "duration": 204,
    "start_time": "2022-08-21T15:47:10.763Z"
   },
   {
    "duration": 15,
    "start_time": "2022-08-21T15:47:16.330Z"
   },
   {
    "duration": 12,
    "start_time": "2022-08-21T15:47:22.002Z"
   },
   {
    "duration": 7,
    "start_time": "2022-08-21T15:47:30.242Z"
   },
   {
    "duration": 14,
    "start_time": "2022-08-21T15:47:34.258Z"
   },
   {
    "duration": 4,
    "start_time": "2022-08-21T15:47:39.345Z"
   },
   {
    "duration": 28,
    "start_time": "2022-08-21T15:47:46.036Z"
   },
   {
    "duration": 6,
    "start_time": "2022-08-21T15:47:49.217Z"
   },
   {
    "duration": 76,
    "start_time": "2022-08-21T15:49:13.678Z"
   },
   {
    "duration": 14,
    "start_time": "2022-08-21T15:54:44.281Z"
   },
   {
    "duration": 44,
    "start_time": "2022-08-21T15:57:32.954Z"
   },
   {
    "duration": 8,
    "start_time": "2022-08-21T15:58:31.438Z"
   },
   {
    "duration": 623,
    "start_time": "2022-08-21T16:00:19.470Z"
   },
   {
    "duration": 3257,
    "start_time": "2022-08-21T16:02:13.513Z"
   },
   {
    "duration": 251,
    "start_time": "2022-08-21T16:15:25.706Z"
   },
   {
    "duration": 247,
    "start_time": "2022-08-21T16:15:42.107Z"
   },
   {
    "duration": 4,
    "start_time": "2022-08-21T16:16:11.794Z"
   },
   {
    "duration": 346,
    "start_time": "2022-08-21T16:16:20.993Z"
   },
   {
    "duration": 382,
    "start_time": "2022-08-21T16:17:05.074Z"
   },
   {
    "duration": 387,
    "start_time": "2022-08-21T16:17:20.983Z"
   },
   {
    "duration": 369,
    "start_time": "2022-08-21T16:17:42.363Z"
   },
   {
    "duration": 450,
    "start_time": "2022-08-21T16:18:00.230Z"
   },
   {
    "duration": 386,
    "start_time": "2022-08-21T16:20:05.098Z"
   },
   {
    "duration": 472,
    "start_time": "2022-08-21T16:32:40.786Z"
   },
   {
    "duration": 436,
    "start_time": "2022-08-21T16:33:21.051Z"
   },
   {
    "duration": 149,
    "start_time": "2022-08-21T16:35:01.703Z"
   },
   {
    "duration": 160,
    "start_time": "2022-08-21T16:37:02.508Z"
   },
   {
    "duration": 479,
    "start_time": "2022-08-21T16:39:23.518Z"
   },
   {
    "duration": 17,
    "start_time": "2022-08-21T16:42:06.414Z"
   },
   {
    "duration": 14,
    "start_time": "2022-08-21T16:42:32.629Z"
   },
   {
    "duration": 3315,
    "start_time": "2022-08-21T16:45:10.715Z"
   },
   {
    "duration": 4454,
    "start_time": "2022-08-21T16:46:10.388Z"
   },
   {
    "duration": 2294,
    "start_time": "2022-08-21T16:46:22.796Z"
   },
   {
    "duration": 3462,
    "start_time": "2022-08-21T16:46:42.581Z"
   },
   {
    "duration": 4394,
    "start_time": "2022-08-21T16:47:08.875Z"
   },
   {
    "duration": 3512,
    "start_time": "2022-08-21T16:47:34.260Z"
   },
   {
    "duration": 243,
    "start_time": "2022-08-21T16:49:55.348Z"
   },
   {
    "duration": 260,
    "start_time": "2022-08-21T16:50:08.547Z"
   },
   {
    "duration": 426,
    "start_time": "2022-08-21T16:50:36.611Z"
   },
   {
    "duration": 4569,
    "start_time": "2022-08-21T16:52:20.912Z"
   },
   {
    "duration": 5927,
    "start_time": "2022-08-21T16:52:58.685Z"
   },
   {
    "duration": 7496,
    "start_time": "2022-08-21T16:53:10.738Z"
   },
   {
    "duration": 450,
    "start_time": "2022-08-21T16:53:35.563Z"
   },
   {
    "duration": 421,
    "start_time": "2022-08-21T16:54:07.583Z"
   },
   {
    "duration": 19,
    "start_time": "2022-08-21T16:55:53.996Z"
   },
   {
    "duration": 624,
    "start_time": "2022-08-21T16:56:33.617Z"
   },
   {
    "duration": 966,
    "start_time": "2022-08-21T16:57:17.013Z"
   },
   {
    "duration": 574,
    "start_time": "2022-08-21T16:57:26.081Z"
   },
   {
    "duration": 184,
    "start_time": "2022-08-21T16:58:59.351Z"
   },
   {
    "duration": 168,
    "start_time": "2022-08-21T16:59:08.006Z"
   },
   {
    "duration": 130,
    "start_time": "2022-08-21T17:02:11.642Z"
   },
   {
    "duration": 597,
    "start_time": "2022-08-21T17:06:23.386Z"
   },
   {
    "duration": 13,
    "start_time": "2022-08-21T17:09:19.681Z"
   },
   {
    "duration": 14,
    "start_time": "2022-08-21T17:09:25.991Z"
   },
   {
    "duration": 15,
    "start_time": "2022-08-21T17:09:58.178Z"
   },
   {
    "duration": 3014,
    "start_time": "2022-08-21T17:10:02.170Z"
   },
   {
    "duration": 273,
    "start_time": "2022-08-21T17:14:10.395Z"
   },
   {
    "duration": 254,
    "start_time": "2022-08-21T17:14:22.596Z"
   },
   {
    "duration": 1616,
    "start_time": "2022-08-21T17:18:45.712Z"
   },
   {
    "duration": 167,
    "start_time": "2022-08-21T17:19:55.024Z"
   },
   {
    "duration": 148,
    "start_time": "2022-08-21T17:22:02.123Z"
   },
   {
    "duration": 457,
    "start_time": "2022-08-21T17:45:41.039Z"
   },
   {
    "duration": 1868,
    "start_time": "2022-08-21T18:03:48.893Z"
   },
   {
    "duration": 231,
    "start_time": "2022-08-21T18:06:02.922Z"
   },
   {
    "duration": 6,
    "start_time": "2022-08-21T18:10:08.356Z"
   },
   {
    "duration": 14,
    "start_time": "2022-08-21T18:13:54.960Z"
   },
   {
    "duration": 20,
    "start_time": "2022-08-21T18:14:17.013Z"
   },
   {
    "duration": 17,
    "start_time": "2022-08-21T18:16:05.902Z"
   },
   {
    "duration": 16,
    "start_time": "2022-08-21T18:18:18.035Z"
   },
   {
    "duration": 15,
    "start_time": "2022-08-21T18:22:43.255Z"
   },
   {
    "duration": 785,
    "start_time": "2022-08-21T18:25:48.771Z"
   },
   {
    "duration": 105,
    "start_time": "2022-08-21T18:26:01.717Z"
   },
   {
    "duration": 235,
    "start_time": "2022-08-21T18:27:37.762Z"
   },
   {
    "duration": 265,
    "start_time": "2022-08-21T18:28:20.594Z"
   },
   {
    "duration": 53,
    "start_time": "2022-08-22T11:23:49.190Z"
   },
   {
    "duration": 1701,
    "start_time": "2022-08-22T11:24:00.658Z"
   },
   {
    "duration": 182,
    "start_time": "2022-08-22T11:24:02.362Z"
   },
   {
    "duration": 16,
    "start_time": "2022-08-22T11:24:02.545Z"
   },
   {
    "duration": 18,
    "start_time": "2022-08-22T11:24:02.563Z"
   },
   {
    "duration": 7,
    "start_time": "2022-08-22T11:24:02.584Z"
   },
   {
    "duration": 16,
    "start_time": "2022-08-22T11:24:02.592Z"
   },
   {
    "duration": 7,
    "start_time": "2022-08-22T11:24:02.610Z"
   },
   {
    "duration": 58,
    "start_time": "2022-08-22T11:24:02.620Z"
   },
   {
    "duration": 7,
    "start_time": "2022-08-22T11:24:02.680Z"
   },
   {
    "duration": 18,
    "start_time": "2022-08-22T11:24:02.688Z"
   },
   {
    "duration": 73,
    "start_time": "2022-08-22T11:24:02.708Z"
   },
   {
    "duration": 161,
    "start_time": "2022-08-22T11:24:02.783Z"
   },
   {
    "duration": 382,
    "start_time": "2022-08-22T11:24:02.946Z"
   },
   {
    "duration": 172,
    "start_time": "2022-08-22T11:24:03.331Z"
   },
   {
    "duration": 578,
    "start_time": "2022-08-22T11:24:03.504Z"
   },
   {
    "duration": 15,
    "start_time": "2022-08-22T11:24:04.084Z"
   },
   {
    "duration": 441,
    "start_time": "2022-08-22T11:24:04.101Z"
   },
   {
    "duration": 270,
    "start_time": "2022-08-22T11:24:04.544Z"
   },
   {
    "duration": 526,
    "start_time": "2022-08-22T11:24:04.817Z"
   },
   {
    "duration": 29,
    "start_time": "2022-08-22T11:24:05.345Z"
   },
   {
    "duration": 1953,
    "start_time": "2022-08-22T11:24:05.376Z"
   },
   {
    "duration": 265,
    "start_time": "2022-08-22T11:24:07.332Z"
   },
   {
    "duration": 249,
    "start_time": "2022-08-22T11:24:07.599Z"
   },
   {
    "duration": 162,
    "start_time": "2022-08-22T11:24:07.851Z"
   },
   {
    "duration": 583,
    "start_time": "2022-08-22T11:24:08.015Z"
   },
   {
    "duration": 15,
    "start_time": "2022-08-22T11:24:08.600Z"
   },
   {
    "duration": 289,
    "start_time": "2022-08-22T11:24:08.617Z"
   },
   {
    "duration": 429,
    "start_time": "2022-08-22T11:30:04.924Z"
   },
   {
    "duration": 1899,
    "start_time": "2022-08-22T19:19:25.212Z"
   },
   {
    "duration": 227,
    "start_time": "2022-08-22T19:19:27.113Z"
   },
   {
    "duration": 16,
    "start_time": "2022-08-22T19:19:27.342Z"
   },
   {
    "duration": 17,
    "start_time": "2022-08-22T19:19:27.361Z"
   },
   {
    "duration": 16,
    "start_time": "2022-08-22T19:19:27.382Z"
   },
   {
    "duration": 19,
    "start_time": "2022-08-22T19:19:27.407Z"
   },
   {
    "duration": 4,
    "start_time": "2022-08-22T19:19:27.428Z"
   },
   {
    "duration": 27,
    "start_time": "2022-08-22T19:19:27.434Z"
   },
   {
    "duration": 7,
    "start_time": "2022-08-22T19:19:27.463Z"
   },
   {
    "duration": 32,
    "start_time": "2022-08-22T19:19:27.472Z"
   },
   {
    "duration": 49,
    "start_time": "2022-08-22T19:19:27.510Z"
   },
   {
    "duration": 181,
    "start_time": "2022-08-22T19:19:27.560Z"
   },
   {
    "duration": 421,
    "start_time": "2022-08-22T19:19:27.743Z"
   },
   {
    "duration": 259,
    "start_time": "2022-08-22T19:19:28.167Z"
   },
   {
    "duration": 502,
    "start_time": "2022-08-22T19:19:28.427Z"
   },
   {
    "duration": 13,
    "start_time": "2022-08-22T19:19:28.931Z"
   },
   {
    "duration": 489,
    "start_time": "2022-08-22T19:19:28.946Z"
   },
   {
    "duration": 280,
    "start_time": "2022-08-22T19:19:29.437Z"
   },
   {
    "duration": 700,
    "start_time": "2022-08-22T19:19:29.719Z"
   },
   {
    "duration": 14,
    "start_time": "2022-08-22T19:19:30.421Z"
   },
   {
    "duration": 288,
    "start_time": "2022-08-22T19:19:30.438Z"
   },
   {
    "duration": 195,
    "start_time": "2022-08-22T19:19:30.728Z"
   },
   {
    "duration": 1590,
    "start_time": "2022-08-22T19:19:30.925Z"
   },
   {
    "duration": 17,
    "start_time": "2022-08-22T19:19:32.517Z"
   },
   {
    "duration": 501,
    "start_time": "2022-08-22T19:19:32.536Z"
   }
  ],
  "kernelspec": {
   "display_name": "Python 3 (ipykernel)",
   "language": "python",
   "name": "python3"
  },
  "language_info": {
   "codemirror_mode": {
    "name": "ipython",
    "version": 3
   },
   "file_extension": ".py",
   "mimetype": "text/x-python",
   "name": "python",
   "nbconvert_exporter": "python",
   "pygments_lexer": "ipython3",
   "version": "3.9.13"
  },
  "toc": {
   "base_numbering": 1,
   "nav_menu": {},
   "number_sections": true,
   "sideBar": true,
   "skip_h1_title": true,
   "title_cell": "Table of Contents",
   "title_sidebar": "Contents",
   "toc_cell": false,
   "toc_position": {},
   "toc_section_display": true,
   "toc_window_display": false
  }
 },
 "nbformat": 4,
 "nbformat_minor": 5
}
